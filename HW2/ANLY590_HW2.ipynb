{
 "cells": [
  {
   "cell_type": "markdown",
   "metadata": {
    "colab_type": "text",
    "id": "YWos_QOzJONC"
   },
   "source": [
    "# ANLY590 HW2\n",
    "## Jun Wang \n",
    "(collaborated with Kornraphop Kawintiranon)\n",
    "## 11/24/2018\n",
    "\n",
    "## 1. Autoencoder"
   ]
  },
  {
   "cell_type": "code",
   "execution_count": 0,
   "metadata": {
    "colab": {},
    "colab_type": "code",
    "id": "-6S1J3LLFuLv"
   },
   "outputs": [],
   "source": [
    "from keras.layers import Input, Dense, Conv2D, MaxPooling2D, UpSampling2D\n",
    "from keras.models import Model\n",
    "from keras import backend as K\n",
    "import matplotlib.pyplot as plt\n",
    "\n",
    "input_img = Input(shape=(28, 28, 1))  # adapt this if using `channels_first` image data format\n",
    "\n",
    "x = Conv2D(16, (3, 3), activation='relu', padding='same')(input_img)\n",
    "x = MaxPooling2D((2, 2), padding='same')(x)\n",
    "x = Conv2D(8, (3, 3), activation='relu', padding='same')(x)\n",
    "x = MaxPooling2D((2, 2), padding='same')(x)\n",
    "x = Conv2D(8, (3, 3), activation='relu', padding='same')(x)\n",
    "encoded = MaxPooling2D((2, 2), padding='same')(x)\n",
    "\n",
    "#the representation is (4, 4, 8) i.e. 128-dimensional\n",
    "\n",
    "x = Conv2D(8, (3, 3), activation='relu', padding='same')(encoded)\n",
    "x = UpSampling2D((2, 2))(x)\n",
    "x = Conv2D(8, (3, 3), activation='relu', padding='same')(x)\n",
    "x = UpSampling2D((2, 2))(x)\n",
    "x = Conv2D(16, (3, 3), activation='relu')(x)\n",
    "x = UpSampling2D((2, 2))(x)\n",
    "decoded = Conv2D(1, (3, 3), activation='sigmoid', padding='same')(x)\n",
    "\n",
    "autoencoder = Model(input_img, decoded)\n",
    "autoencoder.compile(optimizer='adadelta', loss='binary_crossentropy')"
   ]
  },
  {
   "cell_type": "code",
   "execution_count": 0,
   "metadata": {
    "colab": {},
    "colab_type": "code",
    "id": "ma_SxFR0dnEd"
   },
   "outputs": [],
   "source": [
    "from keras.datasets import fashion_mnist\n",
    "import numpy as np\n",
    "\n",
    "(x_train, _), (x_test, _) = fashion_mnist.load_data()\n",
    "\n",
    "x_train = x_train.astype('float32') / 255.\n",
    "x_test = x_test.astype('float32') / 255.\n",
    "x_train = np.reshape(x_train, (len(x_train), 28, 28, 1))  # adapt this if using `channels_first` image data format\n",
    "x_test = np.reshape(x_test, (len(x_test), 28, 28, 1))  # adapt this if using `channels_first` image data format"
   ]
  },
  {
   "cell_type": "code",
   "execution_count": 30,
   "metadata": {
    "colab": {
     "base_uri": "https://localhost:8080/",
     "height": 1071
    },
    "colab_type": "code",
    "id": "fTrEhiIvea91",
    "outputId": "04591f6a-5dcf-49e1-a5d0-08cc5b5c6c1c"
   },
   "outputs": [
    {
     "name": "stdout",
     "output_type": "stream",
     "text": [
      "Train on 60000 samples, validate on 10000 samples\n",
      "Epoch 1/30\n",
      "60000/60000 [==============================] - 8s 130us/step - loss: 0.3671 - val_loss: 0.3276\n",
      "Epoch 2/30\n",
      "60000/60000 [==============================] - 7s 115us/step - loss: 0.3202 - val_loss: 0.3170\n",
      "Epoch 3/30\n",
      "60000/60000 [==============================] - 7s 116us/step - loss: 0.3119 - val_loss: 0.3096\n",
      "Epoch 4/30\n",
      "60000/60000 [==============================] - 7s 116us/step - loss: 0.3066 - val_loss: 0.3059\n",
      "Epoch 5/30\n",
      "60000/60000 [==============================] - 7s 116us/step - loss: 0.3036 - val_loss: 0.3048\n",
      "Epoch 6/30\n",
      "60000/60000 [==============================] - 7s 115us/step - loss: 0.3014 - val_loss: 0.3015\n",
      "Epoch 7/30\n",
      "60000/60000 [==============================] - 7s 116us/step - loss: 0.2998 - val_loss: 0.3005\n",
      "Epoch 8/30\n",
      "60000/60000 [==============================] - 7s 116us/step - loss: 0.2986 - val_loss: 0.3038\n",
      "Epoch 9/30\n",
      "60000/60000 [==============================] - 7s 114us/step - loss: 0.2969 - val_loss: 0.3012\n",
      "Epoch 10/30\n",
      "60000/60000 [==============================] - 7s 114us/step - loss: 0.2958 - val_loss: 0.2968\n",
      "Epoch 11/30\n",
      "60000/60000 [==============================] - 7s 114us/step - loss: 0.2950 - val_loss: 0.2987\n",
      "Epoch 12/30\n",
      "60000/60000 [==============================] - 7s 114us/step - loss: 0.2940 - val_loss: 0.2960\n",
      "Epoch 13/30\n",
      "60000/60000 [==============================] - 7s 114us/step - loss: 0.2933 - val_loss: 0.2933\n",
      "Epoch 14/30\n",
      "60000/60000 [==============================] - 7s 114us/step - loss: 0.2930 - val_loss: 0.2949\n",
      "Epoch 15/30\n",
      "60000/60000 [==============================] - 7s 115us/step - loss: 0.2920 - val_loss: 0.2943\n",
      "Epoch 16/30\n",
      "60000/60000 [==============================] - 7s 114us/step - loss: 0.2920 - val_loss: 0.2922\n",
      "Epoch 17/30\n",
      "60000/60000 [==============================] - 7s 115us/step - loss: 0.2917 - val_loss: 0.2972\n",
      "Epoch 18/30\n",
      "60000/60000 [==============================] - 7s 115us/step - loss: 0.2914 - val_loss: 0.2927\n",
      "Epoch 19/30\n",
      "60000/60000 [==============================] - 7s 115us/step - loss: 0.2909 - val_loss: 0.2935\n",
      "Epoch 20/30\n",
      "60000/60000 [==============================] - 7s 115us/step - loss: 0.2903 - val_loss: 0.2901\n",
      "Epoch 21/30\n",
      "60000/60000 [==============================] - 7s 115us/step - loss: 0.2899 - val_loss: 0.2908\n",
      "Epoch 22/30\n",
      "60000/60000 [==============================] - 7s 114us/step - loss: 0.2894 - val_loss: 0.2913\n",
      "Epoch 23/30\n",
      "60000/60000 [==============================] - 7s 114us/step - loss: 0.2892 - val_loss: 0.2917\n",
      "Epoch 24/30\n",
      "60000/60000 [==============================] - 7s 114us/step - loss: 0.2888 - val_loss: 0.2950\n",
      "Epoch 25/30\n",
      "60000/60000 [==============================] - 7s 114us/step - loss: 0.2885 - val_loss: 0.2918\n",
      "Epoch 26/30\n",
      "60000/60000 [==============================] - 7s 114us/step - loss: 0.2881 - val_loss: 0.2907\n",
      "Epoch 27/30\n",
      "60000/60000 [==============================] - 7s 114us/step - loss: 0.2883 - val_loss: 0.2920\n",
      "Epoch 28/30\n",
      "60000/60000 [==============================] - 7s 114us/step - loss: 0.2880 - val_loss: 0.2894\n",
      "Epoch 29/30\n",
      "60000/60000 [==============================] - 7s 113us/step - loss: 0.2873 - val_loss: 0.2908\n",
      "Epoch 30/30\n",
      "60000/60000 [==============================] - 7s 114us/step - loss: 0.2871 - val_loss: 0.2881\n"
     ]
    },
    {
     "data": {
      "text/plain": [
       "<keras.callbacks.History at 0x7f7fb2f41358>"
      ]
     },
     "execution_count": 30,
     "metadata": {
      "tags": []
     },
     "output_type": "execute_result"
    }
   ],
   "source": [
    "from keras.callbacks import TensorBoard\n",
    "\n",
    "autoencoder.fit(x_train, x_train,\n",
    "                epochs=30,\n",
    "                batch_size=128,\n",
    "                shuffle=True,\n",
    "                validation_data=(x_test, x_test),\n",
    "                callbacks=[TensorBoard(log_dir='/tmp/autoencoder')])"
   ]
  },
  {
   "cell_type": "code",
   "execution_count": 31,
   "metadata": {
    "colab": {
     "base_uri": "https://localhost:8080/",
     "height": 232
    },
    "colab_type": "code",
    "id": "ae-X3XCJmEMu",
    "outputId": "b20da061-cd3f-42a5-de9b-5b3ab94a87d5"
   },
   "outputs": [
    {
     "data": {
      "image/png": "[encoded data removed]",
      "text/plain": [
       "<matplotlib.figure.Figure at 0x7f7f90579198>"
      ]
     },
     "metadata": {
      "tags": []
     },
     "output_type": "display_data"
    }
   ],
   "source": [
    "# Choose 10 random images in the testset and comapre them \n",
    "decoded_imgs = autoencoder.predict(x_test)\n",
    "index = np.random.randint(10000, size=10)\n",
    "f, axarr = plt.subplots(2, 10)\n",
    "for i in range(10):\n",
    "    axarr[0,i].imshow(x_test[index[i]].reshape(28, 28))\n",
    "    axarr[0,i].get_xaxis().set_visible(False)\n",
    "    axarr[0,i].get_yaxis().set_visible(False)\n",
    "    axarr[1,i].imshow(decoded_imgs[index[i]].reshape(28, 28))\n",
    "    axarr[1,i].get_xaxis().set_visible(False)\n",
    "    axarr[1,i].get_yaxis().set_visible(False)"
   ]
  },
  {
   "cell_type": "markdown",
   "metadata": {
    "colab_type": "text",
    "id": "6AaF2mEyINwl"
   },
   "source": [
    "## 2. Image Classification\n",
    "### 2.1 Deep CNN\n",
    "__Descroption of architectural choices:__ <br>\n",
    "Number of kernels: 32<br>\n",
    "Kernel size: 3 by 3<br>\n",
    "Strides: 2<br>\n",
    "Padding: \"same\" (padding the input such that the output has the same length as the original input)<br>\n",
    "Network depth: 256"
   ]
  },
  {
   "cell_type": "code",
   "execution_count": 32,
   "metadata": {
    "colab": {
     "base_uri": "https://localhost:8080/",
     "height": 34
    },
    "colab_type": "code",
    "id": "Abhyipl0IUs5",
    "outputId": "ff16dc36-49e3-4755-f5e8-47f15434b314"
   },
   "outputs": [
    {
     "name": "stdout",
     "output_type": "stream",
     "text": [
      "X_train shape: (60000, 28, 28, 1)\n"
     ]
    }
   ],
   "source": [
    "(X_train, y_train), (X_test, y_test) = fashion_mnist.load_data()\n",
    "X_train = X_train.reshape(X_train.shape[0], 28, 28, 1)\n",
    "X_test = X_test.reshape(X_test.shape[0], 28, 28, 1)\n",
    "input_shape = (28, 28, 1)\n",
    "X_train = X_train.astype('float32')/255\n",
    "X_test = X_test.astype('float32')/255\n",
    "print('X_train shape:', X_train.shape)"
   ]
  },
  {
   "cell_type": "code",
   "execution_count": 33,
   "metadata": {
    "colab": {
     "base_uri": "https://localhost:8080/",
     "height": 476
    },
    "colab_type": "code",
    "id": "SFzxZynlKFKF",
    "outputId": "e2317e7d-507d-4b29-ad68-cc0972282839"
   },
   "outputs": [
    {
     "name": "stdout",
     "output_type": "stream",
     "text": [
      "_________________________________________________________________\n",
      "Layer (type)                 Output Shape              Param #   \n",
      "=================================================================\n",
      "conv2d_22 (Conv2D)           (None, 14, 14, 32)        320       \n",
      "_________________________________________________________________\n",
      "max_pooling2d_13 (MaxPooling (None, 7, 7, 32)          0         \n",
      "_________________________________________________________________\n",
      "dropout_13 (Dropout)         (None, 7, 7, 32)          0         \n",
      "_________________________________________________________________\n",
      "conv2d_23 (Conv2D)           (None, 5, 5, 64)          18496     \n",
      "_________________________________________________________________\n",
      "max_pooling2d_14 (MaxPooling (None, 3, 3, 64)          0         \n",
      "_________________________________________________________________\n",
      "dropout_14 (Dropout)         (None, 3, 3, 64)          0         \n",
      "_________________________________________________________________\n",
      "flatten_11 (Flatten)         (None, 576)               0         \n",
      "_________________________________________________________________\n",
      "dense_19 (Dense)             (None, 128)               73856     \n",
      "_________________________________________________________________\n",
      "dropout_15 (Dropout)         (None, 128)               0         \n",
      "_________________________________________________________________\n",
      "dense_20 (Dense)             (None, 10)                1290      \n",
      "=================================================================\n",
      "Total params: 93,962\n",
      "Trainable params: 93,962\n",
      "Non-trainable params: 0\n",
      "_________________________________________________________________\n"
     ]
    }
   ],
   "source": [
    "import keras\n",
    "from keras.models import Sequential\n",
    "from keras.layers import Dropout, Flatten\n",
    "import keras\n",
    "\n",
    "#set number of categories\n",
    "num_category = 10\n",
    "# convert class vectors to binary class matrices\n",
    "y_train = keras.utils.to_categorical(y_train, num_category)\n",
    "y_test = keras.utils.to_categorical(y_test, num_category)\n",
    "\n",
    "model = Sequential()\n",
    "model.add(Conv2D(32, kernel_size=(3, 3),\n",
    "                 padding=\"same\",\n",
    "                 activation='relu',\n",
    "                 strides=(2, 2),\n",
    "                 input_shape=input_shape))\n",
    "model.add(MaxPooling2D((2, 2)))\n",
    "model.add(Dropout(0.25))\n",
    "model.add(Conv2D(64, (3, 3), activation='relu'))\n",
    "model.add(MaxPooling2D(pool_size=(2, 2),padding=\"same\"))\n",
    "model.add(Dropout(0.25))\n",
    "model.add(Flatten())\n",
    "model.add(Dense(128, activation='relu'))\n",
    "model.add(Dropout(0.5))\n",
    "model.add(Dense(10, activation='softmax'))\n",
    "model.compile(loss=keras.losses.categorical_crossentropy,\n",
    "              optimizer=keras.optimizers.Adadelta(),\n",
    "              metrics=['accuracy'])\n",
    "\n",
    "model.summary()"
   ]
  },
  {
   "cell_type": "code",
   "execution_count": 34,
   "metadata": {
    "colab": {
     "base_uri": "https://localhost:8080/",
     "height": 734
    },
    "colab_type": "code",
    "id": "Xe20DoG8rCJo",
    "outputId": "4956c9a0-4c56-4c16-dc61-bc1895905ea7"
   },
   "outputs": [
    {
     "name": "stdout",
     "output_type": "stream",
     "text": [
      "Train on 60000 samples, validate on 10000 samples\n",
      "Epoch 1/20\n",
      "60000/60000 [==============================] - 6s 100us/step - loss: 0.8496 - acc: 0.6819 - val_loss: 0.5388 - val_acc: 0.7926\n",
      "Epoch 2/20\n",
      "60000/60000 [==============================] - 5s 86us/step - loss: 0.5701 - acc: 0.7868 - val_loss: 0.4639 - val_acc: 0.8243\n",
      "Epoch 3/20\n",
      "60000/60000 [==============================] - 5s 85us/step - loss: 0.5040 - acc: 0.8161 - val_loss: 0.4045 - val_acc: 0.8498\n",
      "Epoch 4/20\n",
      "60000/60000 [==============================] - 5s 86us/step - loss: 0.4563 - acc: 0.8325 - val_loss: 0.3817 - val_acc: 0.8576\n",
      "Epoch 5/20\n",
      "60000/60000 [==============================] - 5s 86us/step - loss: 0.4286 - acc: 0.8451 - val_loss: 0.3682 - val_acc: 0.8668\n",
      "Epoch 6/20\n",
      "60000/60000 [==============================] - 5s 86us/step - loss: 0.4069 - acc: 0.8541 - val_loss: 0.3405 - val_acc: 0.8772\n",
      "Epoch 7/20\n",
      "60000/60000 [==============================] - 5s 85us/step - loss: 0.3898 - acc: 0.8600 - val_loss: 0.3307 - val_acc: 0.8815\n",
      "Epoch 8/20\n",
      "60000/60000 [==============================] - 5s 86us/step - loss: 0.3767 - acc: 0.8643 - val_loss: 0.3137 - val_acc: 0.8878\n",
      "Epoch 9/20\n",
      "60000/60000 [==============================] - 5s 86us/step - loss: 0.3681 - acc: 0.8691 - val_loss: 0.3057 - val_acc: 0.8930\n",
      "Epoch 10/20\n",
      "60000/60000 [==============================] - 5s 86us/step - loss: 0.3582 - acc: 0.8715 - val_loss: 0.3011 - val_acc: 0.8920\n",
      "Epoch 11/20\n",
      "60000/60000 [==============================] - 5s 86us/step - loss: 0.3499 - acc: 0.8748 - val_loss: 0.2983 - val_acc: 0.8931\n",
      "Epoch 12/20\n",
      "60000/60000 [==============================] - 5s 86us/step - loss: 0.3420 - acc: 0.8779 - val_loss: 0.2919 - val_acc: 0.8952\n",
      "Epoch 13/20\n",
      "60000/60000 [==============================] - 5s 86us/step - loss: 0.3380 - acc: 0.8787 - val_loss: 0.2890 - val_acc: 0.8971\n",
      "Epoch 14/20\n",
      "60000/60000 [==============================] - 5s 87us/step - loss: 0.3327 - acc: 0.8801 - val_loss: 0.2830 - val_acc: 0.8975\n",
      "Epoch 15/20\n",
      "60000/60000 [==============================] - 5s 85us/step - loss: 0.3285 - acc: 0.8811 - val_loss: 0.2937 - val_acc: 0.8940\n",
      "Epoch 16/20\n",
      "60000/60000 [==============================] - 5s 85us/step - loss: 0.3253 - acc: 0.8833 - val_loss: 0.2797 - val_acc: 0.8987\n",
      "Epoch 17/20\n",
      "60000/60000 [==============================] - 5s 86us/step - loss: 0.3219 - acc: 0.8842 - val_loss: 0.2788 - val_acc: 0.8990\n",
      "Epoch 18/20\n",
      "60000/60000 [==============================] - 5s 86us/step - loss: 0.3177 - acc: 0.8851 - val_loss: 0.2875 - val_acc: 0.8976\n",
      "Epoch 19/20\n",
      "60000/60000 [==============================] - 5s 85us/step - loss: 0.3093 - acc: 0.8876 - val_loss: 0.2728 - val_acc: 0.9015\n",
      "Epoch 20/20\n",
      "60000/60000 [==============================] - 5s 86us/step - loss: 0.3110 - acc: 0.8895 - val_loss: 0.2761 - val_acc: 0.8984\n"
     ]
    }
   ],
   "source": [
    "#model training\n",
    "model_log = model.fit(X_train, y_train,\n",
    "          batch_size=128,\n",
    "          epochs=20,\n",
    "          verbose=1,\n",
    "          validation_data=(X_test, y_test))"
   ]
  },
  {
   "cell_type": "code",
   "execution_count": 35,
   "metadata": {
    "colab": {
     "base_uri": "https://localhost:8080/",
     "height": 51
    },
    "colab_type": "code",
    "id": "A8vnvdWNsTJS",
    "outputId": "51d080cd-1355-48f3-891d-eb092ab0bdf7"
   },
   "outputs": [
    {
     "name": "stdout",
     "output_type": "stream",
     "text": [
      "Training loss: 0.231380218368272\n",
      "Training accuracy: 0.9143833333333333\n"
     ]
    }
   ],
   "source": [
    "train_score = model.evaluate(X_train, y_train, verbose=0)\n",
    "print('Training loss:', train_score[0]) \n",
    "print('Training accuracy:', train_score[1])"
   ]
  },
  {
   "cell_type": "code",
   "execution_count": 36,
   "metadata": {
    "colab": {
     "base_uri": "https://localhost:8080/",
     "height": 51
    },
    "colab_type": "code",
    "id": "VhM9WcoDsE2G",
    "outputId": "ae73bbb4-54b6-4b4a-c094-152c9a989f01"
   },
   "outputs": [
    {
     "name": "stdout",
     "output_type": "stream",
     "text": [
      "Test loss: 0.2761221510529518\n",
      "Test accuracy: 0.8984\n"
     ]
    }
   ],
   "source": [
    "test_score = model.evaluate(X_test, y_test, verbose=0)\n",
    "print('Test loss:', test_score[0])\n",
    "print('Test accuracy:', test_score[1])"
   ]
  },
  {
   "cell_type": "markdown",
   "metadata": {
    "colab_type": "text",
    "id": "VBh23y77tfYH"
   },
   "source": [
    "### 2.2 Transfer Learning"
   ]
  },
  {
   "cell_type": "code",
   "execution_count": 37,
   "metadata": {
    "colab": {
     "base_uri": "https://localhost:8080/",
     "height": 374
    },
    "colab_type": "code",
    "id": "NLh8_Y_ytqYt",
    "outputId": "55817769-1e4c-4546-db3a-c8de28a7c5a1"
   },
   "outputs": [
    {
     "name": "stdout",
     "output_type": "stream",
     "text": [
      "_________________________________________________________________\n",
      "Layer (type)                 Output Shape              Param #   \n",
      "=================================================================\n",
      "vgg16 (Model)                (None, 1, 1, 512)         14714688  \n",
      "_________________________________________________________________\n",
      "dropout_16 (Dropout)         (None, 1, 1, 512)         0         \n",
      "_________________________________________________________________\n",
      "flatten_12 (Flatten)         (None, 512)               0         \n",
      "_________________________________________________________________\n",
      "dense_21 (Dense)             (None, 128)               65664     \n",
      "_________________________________________________________________\n",
      "dense_22 (Dense)             (None, 64)                8256      \n",
      "_________________________________________________________________\n",
      "dropout_17 (Dropout)         (None, 64)                0         \n",
      "_________________________________________________________________\n",
      "dense_23 (Dense)             (None, 10)                650       \n",
      "=================================================================\n",
      "Total params: 14,789,258\n",
      "Trainable params: 74,570\n",
      "Non-trainable params: 14,714,688\n",
      "_________________________________________________________________\n"
     ]
    }
   ],
   "source": [
    "import cv2\n",
    "from keras.applications import VGG16\n",
    "\n",
    "(x_train, y_train), (x_test, y_test) = fashion_mnist.load_data()\n",
    "num_category = 10\n",
    "\n",
    "# convert class vectors to binary class matrices\n",
    "y_train = keras.utils.to_categorical(y_train, num_category)\n",
    "y_test = keras.utils.to_categorical(y_test, num_category)\n",
    "\n",
    "# converting it to RGB\n",
    "x_train = [cv2.cvtColor(cv2.resize(i, (32,32)), cv2.COLOR_GRAY2BGR) for i in x_train]\n",
    "x_train = np.concatenate([arr[np.newaxis] for arr in x_train]).astype('float32')\n",
    "x_test = [cv2.cvtColor(cv2.resize(i, (32,32)), cv2.COLOR_GRAY2BGR) for i in x_test]\n",
    "x_test = np.concatenate([arr[np.newaxis] for arr in x_test]).astype('float32')\n",
    "conv_base = VGG16(weights='imagenet', include_top=False,input_shape = (32,32,3))\n",
    "for layer in conv_base.layers:\n",
    "    layer.trainable = False\n",
    "\n",
    "    \n",
    "model = Sequential()\n",
    "model.add(conv_base)\n",
    "model.add(Dropout(0.25))\n",
    "model.add(Flatten())\n",
    "model.add(Dense(128, activation='relu'))\n",
    "model.add(Dense(64, activation='relu')) \n",
    "model.add(Dropout(0.5))\n",
    "model.add(Dense(10, activation='softmax'))\n",
    "model.compile(loss=keras.losses.categorical_crossentropy,\n",
    "              optimizer=keras.optimizers.Adadelta(),\n",
    "              metrics=['accuracy'])\n",
    "model.summary()"
   ]
  },
  {
   "cell_type": "code",
   "execution_count": 38,
   "metadata": {
    "colab": {
     "base_uri": "https://localhost:8080/",
     "height": 734
    },
    "colab_type": "code",
    "id": "upWux_JWyZ22",
    "outputId": "7df745cf-13cb-4bbc-c31f-0fb3b28cf578"
   },
   "outputs": [
    {
     "name": "stdout",
     "output_type": "stream",
     "text": [
      "Train on 60000 samples, validate on 10000 samples\n",
      "Epoch 1/20\n",
      "60000/60000 [==============================] - 24s 399us/step - loss: 1.6732 - acc: 0.5436 - val_loss: 0.7207 - val_acc: 0.7481\n",
      "Epoch 2/20\n",
      "60000/60000 [==============================] - 22s 370us/step - loss: 0.9307 - acc: 0.6712 - val_loss: 0.6365 - val_acc: 0.7667\n",
      "Epoch 3/20\n",
      "60000/60000 [==============================] - 22s 370us/step - loss: 0.8204 - acc: 0.7051 - val_loss: 0.5802 - val_acc: 0.7932\n",
      "Epoch 4/20\n",
      "60000/60000 [==============================] - 22s 372us/step - loss: 0.7586 - acc: 0.7275 - val_loss: 0.5820 - val_acc: 0.7893\n",
      "Epoch 5/20\n",
      "60000/60000 [==============================] - 22s 371us/step - loss: 0.7120 - acc: 0.7439 - val_loss: 0.5503 - val_acc: 0.8043\n",
      "Epoch 6/20\n",
      "60000/60000 [==============================] - 22s 370us/step - loss: 0.6952 - acc: 0.7532 - val_loss: 0.5476 - val_acc: 0.7988\n",
      "Epoch 7/20\n",
      "60000/60000 [==============================] - 22s 370us/step - loss: 0.6707 - acc: 0.7590 - val_loss: 0.5158 - val_acc: 0.8116\n",
      "Epoch 8/20\n",
      "60000/60000 [==============================] - 22s 370us/step - loss: 0.6546 - acc: 0.7671 - val_loss: 0.5182 - val_acc: 0.8143\n",
      "Epoch 9/20\n",
      "60000/60000 [==============================] - 22s 370us/step - loss: 0.6384 - acc: 0.7756 - val_loss: 0.5018 - val_acc: 0.8233\n",
      "Epoch 10/20\n",
      "60000/60000 [==============================] - 22s 372us/step - loss: 0.6241 - acc: 0.7777 - val_loss: 0.4971 - val_acc: 0.8262\n",
      "Epoch 11/20\n",
      "60000/60000 [==============================] - 22s 370us/step - loss: 0.6188 - acc: 0.7828 - val_loss: 0.4944 - val_acc: 0.8268\n",
      "Epoch 12/20\n",
      "60000/60000 [==============================] - 22s 371us/step - loss: 0.6076 - acc: 0.7846 - val_loss: 0.4954 - val_acc: 0.8272\n",
      "Epoch 13/20\n",
      "60000/60000 [==============================] - 22s 374us/step - loss: 0.5983 - acc: 0.7892 - val_loss: 0.4820 - val_acc: 0.8288\n",
      "Epoch 14/20\n",
      "60000/60000 [==============================] - 22s 375us/step - loss: 0.5921 - acc: 0.7932 - val_loss: 0.4730 - val_acc: 0.8316\n",
      "Epoch 15/20\n",
      "60000/60000 [==============================] - 23s 377us/step - loss: 0.5859 - acc: 0.7955 - val_loss: 0.4715 - val_acc: 0.8305\n",
      "Epoch 16/20\n",
      "60000/60000 [==============================] - 22s 371us/step - loss: 0.5734 - acc: 0.7993 - val_loss: 0.4647 - val_acc: 0.8375\n",
      "Epoch 17/20\n",
      "60000/60000 [==============================] - 22s 371us/step - loss: 0.5697 - acc: 0.7990 - val_loss: 0.4652 - val_acc: 0.8354\n",
      "Epoch 18/20\n",
      "60000/60000 [==============================] - 22s 372us/step - loss: 0.5661 - acc: 0.8028 - val_loss: 0.4737 - val_acc: 0.8340\n",
      "Epoch 19/20\n",
      "60000/60000 [==============================] - 22s 372us/step - loss: 0.5614 - acc: 0.8042 - val_loss: 0.4745 - val_acc: 0.8299\n",
      "Epoch 20/20\n",
      "60000/60000 [==============================] - 23s 375us/step - loss: 0.5589 - acc: 0.8042 - val_loss: 0.4643 - val_acc: 0.8340\n"
     ]
    }
   ],
   "source": [
    "#model training\n",
    "model_log = model.fit(x_train, y_train,\n",
    "          batch_size=128,\n",
    "          epochs=20,\n",
    "          verbose=1,\n",
    "          validation_data=(x_test, y_test))"
   ]
  },
  {
   "cell_type": "code",
   "execution_count": 39,
   "metadata": {
    "colab": {
     "base_uri": "https://localhost:8080/",
     "height": 51
    },
    "colab_type": "code",
    "id": "05QNXO3PvXlN",
    "outputId": "5ab71e95-3228-4442-c71c-cde620e00616"
   },
   "outputs": [
    {
     "name": "stdout",
     "output_type": "stream",
     "text": [
      "Training loss: 0.39461324273347853\n",
      "Training accuracy: 0.8580333333333333\n"
     ]
    }
   ],
   "source": [
    "train_score = model.evaluate(x_train, y_train, verbose=0)\n",
    "print('Training loss:', train_score[0]) \n",
    "print('Training accuracy:', train_score[1])"
   ]
  },
  {
   "cell_type": "code",
   "execution_count": 40,
   "metadata": {
    "colab": {
     "base_uri": "https://localhost:8080/",
     "height": 51
    },
    "colab_type": "code",
    "id": "ONa6unCnvXRd",
    "outputId": "87e5531a-0d6b-44e3-f4cd-203624a04acd"
   },
   "outputs": [
    {
     "name": "stdout",
     "output_type": "stream",
     "text": [
      "Test loss: 0.46427107996940614\n",
      "Test accuracy: 0.834\n"
     ]
    }
   ],
   "source": [
    "test_score = model.evaluate(x_test, y_test, verbose=0)\n",
    "print('Test loss:', test_score[0]) \n",
    "print('Test accuracy:', test_score[1])"
   ]
  },
  {
   "cell_type": "markdown",
   "metadata": {
    "colab_type": "text",
    "id": "wGDOfXctIfoL"
   },
   "source": [
    "## 3. Text Classification\n",
    "### 3.1 RNN"
   ]
  },
  {
   "cell_type": "code",
   "execution_count": 41,
   "metadata": {
    "colab": {
     "base_uri": "https://localhost:8080/",
     "height": 221
    },
    "colab_type": "code",
    "id": "LUbZuUDBIepY",
    "outputId": "73dd931b-36af-465c-bbe4-2baffeb37f41"
   },
   "outputs": [
    {
     "name": "stdout",
     "output_type": "stream",
     "text": [
      "total chars: 41\n",
      "_________________________________________________________________\n",
      "Layer (type)                 Output Shape              Param #   \n",
      "=================================================================\n",
      "lstm_4 (LSTM)                (None, 256)               305152    \n",
      "_________________________________________________________________\n",
      "dense_24 (Dense)             (None, 1)                 257       \n",
      "=================================================================\n",
      "Total params: 305,409\n",
      "Trainable params: 305,409\n",
      "Non-trainable params: 0\n",
      "_________________________________________________________________\n"
     ]
    }
   ],
   "source": [
    "from keras.utils.data_utils import get_file\n",
    "import io\n",
    "from keras.preprocessing.text import one_hot\n",
    "from keras.preprocessing import sequence\n",
    "import random\n",
    "from keras.models import Sequential\n",
    "from keras.layers import Dense, Dropout, Activation, Convolution1D\n",
    "from keras.optimizers import SGD\n",
    "from keras.layers.embeddings import Embedding\n",
    "import seaborn as sns\n",
    "from keras.preprocessing.text import one_hot\n",
    "from keras.layers import LSTM\n",
    "from keras.preprocessing.sequence import pad_sequences\n",
    "from keras.optimizers import RMSprop\n",
    "\n",
    "\n",
    "benign = get_file('benign',\n",
    "    origin='https://s3.amazonaws.com/anly-590/url-classification/benign-urls.txt')\n",
    "\n",
    "with io.open(benign, encoding='utf-8') as f:\n",
    "    lines = f.readlines()\n",
    "#    print(lines)\n",
    "benign_srt = []\n",
    "for i in lines:\n",
    "    if i[0]!='#':\n",
    "        i = i.rstrip(\"\\n\\r\")\n",
    "        benign_srt.append(i.lower()) \n",
    "\n",
    "len(benign_srt)\n",
    "\n",
    "malicious = get_file('malicious',\n",
    "    origin='https://s3.amazonaws.com/anly-590/url-classification/malicious-urls.txt')\n",
    "\n",
    "with io.open(malicious, encoding='utf-8') as f:\n",
    "    lines = f.readlines()\n",
    "#    print(lines)\n",
    "malicious_srt = []\n",
    "for i in lines:\n",
    "    if i[0]!='#':\n",
    "        i = i.rstrip(\"\\n\\r\")\n",
    "        malicious_srt.append(i.lower()) \n",
    "        \n",
    "len(malicious_srt)\n",
    "\n",
    "\n",
    "tot_str = benign_srt+malicious_srt\n",
    "\n",
    "my_lst_str = ''.join(map(str, tot_str))\n",
    "\n",
    "\n",
    "chars = sorted(list(set(my_lst_str)))\n",
    "print('total chars:', len(chars))\n",
    "char_indices = dict((c, i) for i, c in enumerate(chars))\n",
    "indices_char = dict((i, c) for i, c in enumerate(chars))\n",
    "max_len = max([len(i) for i in tot_str])\n",
    "\n",
    "\n",
    "X = np.zeros((len(tot_str), max_len, len(chars)), dtype=np.uint8 )\n",
    "Y = np.concatenate([np.zeros(len(benign_srt)), np.ones(len(malicious_srt)) ])\n",
    "for i, seq in enumerate(tot_str):\n",
    "    for t, char in enumerate(seq):\n",
    "        X[i, t, char_indices[char]] = 1\n",
    "\n",
    "\n",
    "index = random.sample(range(len(Y)), len(Y))\n",
    "X_shuffle = X[index]\n",
    "Y_shuffle = Y[index]\n",
    "split = int(len(Y)*0.75)\n",
    "X_train = X_shuffle[:split,:].astype(int)\n",
    "Y_train = Y_shuffle[:split,].astype(int)\n",
    "X_test = X_shuffle[split:,:].astype(int)\n",
    "Y_test = Y_shuffle[split:,].astype(int)\n",
    "\n",
    "\n",
    "model_1 = Sequential()\n",
    "model_1.add(LSTM(256, input_shape=(max_len, len(chars))))\n",
    "model_1.add(Dense(1, activation='sigmoid'))\n",
    "model_1.compile(loss='binary_crossentropy', \n",
    "              optimizer='adam', \n",
    "              metrics=['accuracy'])\n",
    "\n",
    "model_1.summary()"
   ]
  },
  {
   "cell_type": "code",
   "execution_count": 42,
   "metadata": {
    "colab": {
     "base_uri": "https://localhost:8080/",
     "height": 394
    },
    "colab_type": "code",
    "id": "q-YbevYh11l1",
    "outputId": "ffd6e46b-bfaa-499f-ec71-494f8cfd30b0"
   },
   "outputs": [
    {
     "name": "stdout",
     "output_type": "stream",
     "text": [
      "Train on 50483 samples, validate on 16828 samples\n",
      "Epoch 1/10\n",
      "50483/50483 [==============================] - 52s 1ms/step - loss: 0.1159 - acc: 0.9800 - val_loss: 0.0998 - val_acc: 0.9796\n",
      "Epoch 2/10\n",
      "50483/50483 [==============================] - 51s 1ms/step - loss: 0.0943 - acc: 0.9811 - val_loss: 0.1003 - val_acc: 0.9796\n",
      "Epoch 3/10\n",
      "50483/50483 [==============================] - 51s 1ms/step - loss: 0.0940 - acc: 0.9811 - val_loss: 0.1004 - val_acc: 0.9796\n",
      "Epoch 4/10\n",
      "50483/50483 [==============================] - 51s 1ms/step - loss: 0.0939 - acc: 0.9811 - val_loss: 0.0998 - val_acc: 0.9796\n",
      "Epoch 5/10\n",
      "50483/50483 [==============================] - 51s 1ms/step - loss: 0.0940 - acc: 0.9811 - val_loss: 0.1004 - val_acc: 0.9796\n",
      "Epoch 6/10\n",
      "50483/50483 [==============================] - 51s 1ms/step - loss: 0.0940 - acc: 0.9811 - val_loss: 0.0999 - val_acc: 0.9796\n",
      "Epoch 7/10\n",
      "50483/50483 [==============================] - 51s 1ms/step - loss: 0.0939 - acc: 0.9811 - val_loss: 0.0998 - val_acc: 0.9796\n",
      "Epoch 8/10\n",
      "50483/50483 [==============================] - 51s 1ms/step - loss: 0.0938 - acc: 0.9811 - val_loss: 0.1013 - val_acc: 0.9796\n",
      "Epoch 9/10\n",
      "50483/50483 [==============================] - 51s 1ms/step - loss: 0.0938 - acc: 0.9811 - val_loss: 0.1000 - val_acc: 0.9796\n",
      "Epoch 10/10\n",
      "50483/50483 [==============================] - 51s 1ms/step - loss: 0.0938 - acc: 0.9811 - val_loss: 0.0999 - val_acc: 0.9796\n"
     ]
    }
   ],
   "source": [
    "model_log = model_1.fit(X_train, Y_train,\n",
    "          batch_size=256,\n",
    "          epochs=10,\n",
    "          verbose=1,\n",
    "          validation_data=(X_test, Y_test))"
   ]
  },
  {
   "cell_type": "code",
   "execution_count": 43,
   "metadata": {
    "colab": {
     "base_uri": "https://localhost:8080/",
     "height": 51
    },
    "colab_type": "code",
    "id": "JXC0ErmULmRp",
    "outputId": "144b86a3-d8f9-4854-f205-55b88cf2b852"
   },
   "outputs": [
    {
     "name": "stdout",
     "output_type": "stream",
     "text": [
      "Training loss: 0.09357164035679336\n",
      "Training accuracy: 0.9811421666699681\n"
     ]
    }
   ],
   "source": [
    "train_score = model_1.evaluate(X_train, Y_train, verbose=0)\n",
    "print('Training loss:', train_score[0]) \n",
    "print('Training accuracy:', train_score[1])"
   ]
  },
  {
   "cell_type": "code",
   "execution_count": 44,
   "metadata": {
    "colab": {
     "base_uri": "https://localhost:8080/",
     "height": 51
    },
    "colab_type": "code",
    "id": "av_sG7tJLuGX",
    "outputId": "76207504-7436-4a1f-8202-56fca02a1378"
   },
   "outputs": [
    {
     "name": "stdout",
     "output_type": "stream",
     "text": [
      "Test loss: 0.09989530034053345\n",
      "Test accuracy: 0.979557879752605\n"
     ]
    }
   ],
   "source": [
    "test_score = model_1.evaluate(X_test, Y_test, verbose=0)\n",
    "print('Test loss:', test_score[0]) \n",
    "print('Test accuracy:', test_score[1])"
   ]
  },
  {
   "cell_type": "markdown",
   "metadata": {
    "colab_type": "text",
    "id": "xD1TTxX3lDkq"
   },
   "source": [
    "### 3.2 CNN"
   ]
  },
  {
   "cell_type": "code",
   "execution_count": 0,
   "metadata": {
    "colab": {},
    "colab_type": "code",
    "id": "BCVOQaQ7kIVY"
   },
   "outputs": [],
   "source": [
    "from keras.layers import Input, Dense, Conv1D, MaxPooling1D\n",
    "\n",
    "model_2 = Sequential()\n",
    "model_2.add(Conv1D(filters=128, kernel_size=5, padding='same', activation='relu'))\n",
    "model_2.add(MaxPooling1D(pool_size=2))\n",
    "model_2.add(Flatten())\n",
    "model_2.add(Dense(1, activation='sigmoid'))\n",
    "model_2.compile(loss='binary_crossentropy', \n",
    "              optimizer='adam', \n",
    "              metrics=['accuracy'])"
   ]
  },
  {
   "cell_type": "code",
   "execution_count": 61,
   "metadata": {
    "colab": {
     "base_uri": "https://localhost:8080/",
     "height": 272
    },
    "colab_type": "code",
    "id": "xfwZ4DRTIFFh",
    "outputId": "62c8f27b-eaaf-4bdb-d958-7d335570db04"
   },
   "outputs": [
    {
     "name": "stdout",
     "output_type": "stream",
     "text": [
      "_________________________________________________________________\n",
      "Layer (type)                 Output Shape              Param #   \n",
      "=================================================================\n",
      "conv1d_16 (Conv1D)           (None, 86, 128)           26368     \n",
      "_________________________________________________________________\n",
      "max_pooling1d_16 (MaxPooling (None, 43, 128)           0         \n",
      "_________________________________________________________________\n",
      "flatten_22 (Flatten)         (None, 5504)              0         \n",
      "_________________________________________________________________\n",
      "dense_34 (Dense)             (None, 1)                 5505      \n",
      "=================================================================\n",
      "Total params: 31,873\n",
      "Trainable params: 31,873\n",
      "Non-trainable params: 0\n",
      "_________________________________________________________________\n"
     ]
    }
   ],
   "source": [
    "model_2.summary()"
   ]
  },
  {
   "cell_type": "code",
   "execution_count": 60,
   "metadata": {
    "colab": {
     "base_uri": "https://localhost:8080/",
     "height": 394
    },
    "colab_type": "code",
    "id": "b6m0SAb48blL",
    "outputId": "470ca671-cd5a-4373-df74-85ae3682860d"
   },
   "outputs": [
    {
     "name": "stdout",
     "output_type": "stream",
     "text": [
      "Train on 50483 samples, validate on 16828 samples\n",
      "Epoch 1/10\n",
      "50483/50483 [==============================] - 6s 120us/step - loss: 0.0748 - acc: 0.9802 - val_loss: 0.0521 - val_acc: 0.9796\n",
      "Epoch 2/10\n",
      "50483/50483 [==============================] - 5s 94us/step - loss: 0.0390 - acc: 0.9826 - val_loss: 0.0316 - val_acc: 0.9840\n",
      "Epoch 3/10\n",
      "50483/50483 [==============================] - 5s 95us/step - loss: 0.0258 - acc: 0.9880 - val_loss: 0.0244 - val_acc: 0.9880\n",
      "Epoch 4/10\n",
      "50483/50483 [==============================] - 5s 95us/step - loss: 0.0199 - acc: 0.9912 - val_loss: 0.0210 - val_acc: 0.9911\n",
      "Epoch 5/10\n",
      "50483/50483 [==============================] - 5s 94us/step - loss: 0.0162 - acc: 0.9934 - val_loss: 0.0196 - val_acc: 0.9913\n",
      "Epoch 6/10\n",
      "50483/50483 [==============================] - 5s 94us/step - loss: 0.0136 - acc: 0.9949 - val_loss: 0.0189 - val_acc: 0.9910\n",
      "Epoch 7/10\n",
      "50483/50483 [==============================] - 5s 94us/step - loss: 0.0114 - acc: 0.9960 - val_loss: 0.0184 - val_acc: 0.9919\n",
      "Epoch 8/10\n",
      "50483/50483 [==============================] - 5s 94us/step - loss: 0.0097 - acc: 0.9971 - val_loss: 0.0183 - val_acc: 0.9917\n",
      "Epoch 9/10\n",
      "50483/50483 [==============================] - 5s 94us/step - loss: 0.0081 - acc: 0.9979 - val_loss: 0.0182 - val_acc: 0.9919\n",
      "Epoch 10/10\n",
      "50483/50483 [==============================] - 5s 95us/step - loss: 0.0068 - acc: 0.9984 - val_loss: 0.0183 - val_acc: 0.9918\n"
     ]
    }
   ],
   "source": [
    "model_log = model_2.fit(X_train, Y_train,\n",
    "          batch_size=128,\n",
    "          epochs=10,\n",
    "          verbose=1,\n",
    "          validation_data=(X_test, Y_test))"
   ]
  },
  {
   "cell_type": "code",
   "execution_count": 62,
   "metadata": {
    "colab": {
     "base_uri": "https://localhost:8080/",
     "height": 51
    },
    "colab_type": "code",
    "id": "yydNd1r1kQkn",
    "outputId": "40b25786-0344-49ca-bd57-9b0d189b7e9d"
   },
   "outputs": [
    {
     "name": "stdout",
     "output_type": "stream",
     "text": [
      "Training loss: 0.00513452875886593\n",
      "Training accuracy: 0.9991878454133074\n"
     ]
    }
   ],
   "source": [
    "train_score = model_2.evaluate(X_train, Y_train, verbose=0)\n",
    "print('Training loss:', train_score[0]) \n",
    "print('Training accuracy:', train_score[1])"
   ]
  },
  {
   "cell_type": "code",
   "execution_count": 63,
   "metadata": {
    "colab": {
     "base_uri": "https://localhost:8080/",
     "height": 51
    },
    "colab_type": "code",
    "id": "5JHkzdVbkUcD",
    "outputId": "0c0eb06b-3fd1-4260-d1b9-ba837fadd08b"
   },
   "outputs": [
    {
     "name": "stdout",
     "output_type": "stream",
     "text": [
      "Test loss: 0.018324430864456984\n",
      "Test accuracy: 0.9917993820107462\n"
     ]
    }
   ],
   "source": [
    "test_score = model_2.evaluate(X_test, Y_test, verbose=0)\n",
    "print('Test loss:', test_score[0]) \n",
    "print('Test accuracy:', test_score[1])"
   ]
  },
  {
   "cell_type": "markdown",
   "metadata": {
    "colab_type": "text",
    "id": "GPA5lS-4lLzP"
   },
   "source": [
    "### 3.3"
   ]
  },
  {
   "cell_type": "code",
   "execution_count": 65,
   "metadata": {
    "colab": {
     "base_uri": "https://localhost:8080/",
     "height": 376
    },
    "colab_type": "code",
    "id": "6ZKXVjCpkUTe",
    "outputId": "f841926d-baec-401f-e427-0895c8ca0f2c"
   },
   "outputs": [
    {
     "data": {
      "image/png": "[encoded data removed]",
      "text/plain": [
       "<matplotlib.figure.Figure at 0x7f7f864e0828>"
      ]
     },
     "metadata": {
      "tags": []
     },
     "output_type": "display_data"
    }
   ],
   "source": [
    "from sklearn.metrics import roc_curve\n",
    "from sklearn.metrics import auc\n",
    "\n",
    "y_pred_rnn = model_1.predict(X_test).ravel()\n",
    "fpr_rnn, tpr_rnn, thresholds_rnn = roc_curve(Y_test, y_pred_rnn)\n",
    "auc_rnn = auc(fpr_rnn, tpr_rnn)\n",
    "\n",
    "y_pred_cnn = model_2.predict(X_test).ravel()\n",
    "fpr_cnn, tpr_cnn, thresholds_cnn = roc_curve(Y_test, y_pred_cnn)\n",
    "auc_cnn = auc(fpr_cnn, tpr_cnn)\n",
    "\n",
    "plt.figure()\n",
    "plt.plot([0, 1], [0, 1], 'k--')\n",
    "plt.plot(fpr_rnn, tpr_rnn, label='RNN (AUC = {:.3f})'.format(auc_rnn))\n",
    "plt.plot(fpr_cnn, tpr_cnn, label='CNN (AUC = {:.3f})'.format(auc_cnn))\n",
    "plt.xlabel(\"False positive rate\")\n",
    "plt.ylabel(\"True positive rate\")\n",
    "plt.title(\"ROC curve\")\n",
    "plt.legend(loc=\"lower right\")\n",
    "plt.show()"
   ]
  }
 ],
 "metadata": {
  "accelerator": "GPU",
  "colab": {
   "name": "ANLY590 HW2.ipynb",
   "provenance": [],
   "version": "0.3.2"
  },
  "kernelspec": {
   "display_name": "Python 3",
   "language": "python",
   "name": "python3"
  },
  "language_info": {
   "codemirror_mode": {
    "name": "ipython",
    "version": 3
   },
   "file_extension": ".py",
   "mimetype": "text/x-python",
   "name": "python",
   "nbconvert_exporter": "python",
   "pygments_lexer": "ipython3",
   "version": "3.6.4"
  }
 },
 "nbformat": 4,
 "nbformat_minor": 1
}
